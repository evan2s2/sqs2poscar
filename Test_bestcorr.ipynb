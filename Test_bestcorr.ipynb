{
 "cells": [
  {
   "cell_type": "code",
   "execution_count": 1,
   "id": "df3e6c40-4e47-4620-8ce5-e49c6888f52b",
   "metadata": {},
   "outputs": [],
   "source": [
    "import pandas as pd"
   ]
  },
  {
   "cell_type": "code",
   "execution_count": 8,
   "id": "76b96fdd-f28b-41f4-8e7f-7b1a3edb0e39",
   "metadata": {},
   "outputs": [
    {
     "data": {
      "text/html": [
       "<div>\n",
       "<style scoped>\n",
       "    .dataframe tbody tr th:only-of-type {\n",
       "        vertical-align: middle;\n",
       "    }\n",
       "\n",
       "    .dataframe tbody tr th {\n",
       "        vertical-align: top;\n",
       "    }\n",
       "\n",
       "    .dataframe thead th {\n",
       "        text-align: right;\n",
       "    }\n",
       "</style>\n",
       "<table border=\"1\" class=\"dataframe\">\n",
       "  <thead>\n",
       "    <tr style=\"text-align: right;\">\n",
       "      <th></th>\n",
       "      <th>4</th>\n",
       "      <th>5</th>\n",
       "      <th>6</th>\n",
       "      <th>7</th>\n",
       "      <th>8</th>\n",
       "      <th>9</th>\n",
       "      <th>10</th>\n",
       "    </tr>\n",
       "  </thead>\n",
       "  <tbody>\n",
       "    <tr>\n",
       "      <th>45</th>\n",
       "      <td>0.106667</td>\n",
       "      <td>0.106667</td>\n",
       "      <td>0.106667</td>\n",
       "      <td>0.106667</td>\n",
       "      <td>0.160000</td>\n",
       "      <td>0.160000</td>\n",
       "      <td>0.160000</td>\n",
       "    </tr>\n",
       "    <tr>\n",
       "      <th>60</th>\n",
       "      <td>0.040000</td>\n",
       "      <td>0.040000</td>\n",
       "      <td>0.040000</td>\n",
       "      <td>0.040000</td>\n",
       "      <td>0.073333</td>\n",
       "      <td>0.073333</td>\n",
       "      <td>0.073333</td>\n",
       "    </tr>\n",
       "    <tr>\n",
       "      <th>75</th>\n",
       "      <td>0.000000</td>\n",
       "      <td>0.000000</td>\n",
       "      <td>0.000000</td>\n",
       "      <td>0.026667</td>\n",
       "      <td>0.080000</td>\n",
       "      <td>0.053333</td>\n",
       "      <td>0.080000</td>\n",
       "    </tr>\n",
       "    <tr>\n",
       "      <th>90</th>\n",
       "      <td>0.026667</td>\n",
       "      <td>0.026667</td>\n",
       "      <td>0.026667</td>\n",
       "      <td>0.026667</td>\n",
       "      <td>0.026667</td>\n",
       "      <td>0.026667</td>\n",
       "      <td>0.071111</td>\n",
       "    </tr>\n",
       "    <tr>\n",
       "      <th>105</th>\n",
       "      <td>0.045714</td>\n",
       "      <td>0.045714</td>\n",
       "      <td>0.045714</td>\n",
       "      <td>0.045714</td>\n",
       "      <td>0.045714</td>\n",
       "      <td>0.045714</td>\n",
       "      <td>0.045714</td>\n",
       "    </tr>\n",
       "    <tr>\n",
       "      <th>120</th>\n",
       "      <td>0.040000</td>\n",
       "      <td>0.040000</td>\n",
       "      <td>0.040000</td>\n",
       "      <td>0.040000</td>\n",
       "      <td>0.040000</td>\n",
       "      <td>0.043333</td>\n",
       "      <td>0.060000</td>\n",
       "    </tr>\n",
       "  </tbody>\n",
       "</table>\n",
       "</div>"
      ],
      "text/plain": [
       "           4         5         6         7         8         9         10\n",
       "45   0.106667  0.106667  0.106667  0.106667  0.160000  0.160000  0.160000\n",
       "60   0.040000  0.040000  0.040000  0.040000  0.073333  0.073333  0.073333\n",
       "75   0.000000  0.000000  0.000000  0.026667  0.080000  0.053333  0.080000\n",
       "90   0.026667  0.026667  0.026667  0.026667  0.026667  0.026667  0.071111\n",
       "105  0.045714  0.045714  0.045714  0.045714  0.045714  0.045714  0.045714\n",
       "120  0.040000  0.040000  0.040000  0.040000  0.040000  0.043333  0.060000"
      ]
     },
     "execution_count": 8,
     "metadata": {},
     "output_type": "execute_result"
    }
   ],
   "source": [
    "df = pd.read_csv('res.log', sep='\\t')\n",
    "fdf = df.groupby(['Nat', 'CS']).apply(lambda x: x['Diff'].abs().max()) #.apply(lambda x: x.sort_values(by='Na'))\n",
    "\n",
    "pdf = pd.DataFrame()\n",
    "\n",
    "for idx in fdf.index:\n",
    "    tmp = {}\n",
    "    data = fdf.loc[idx]\n",
    "    pdf.loc[idx[0], idx[1]] = data\n",
    "pdf"
   ]
  },
  {
   "cell_type": "code",
   "execution_count": 3,
   "id": "e0321255-10d4-4ce3-aa1f-e9aab986fd2f",
   "metadata": {},
   "outputs": [
    {
     "data": {
      "text/plain": [
       "<AxesSubplot:>"
      ]
     },
     "execution_count": 3,
     "metadata": {},
     "output_type": "execute_result"
    },
    {
     "data": {
      "image/png": "[encoded data removed]",
      "text/plain": [
       "<Figure size 432x288 with 2 Axes>"
      ]
     },
     "metadata": {
      "needs_background": "light"
     },
     "output_type": "display_data"
    }
   ],
   "source": [
    "import seaborn as sns\n",
    "import matplotlib.pyplot as plt\n",
    "\n",
    "sns.heatmap(pdf, annot=True, cmap='coolwarm')"
   ]
  },
  {
   "cell_type": "code",
   "execution_count": 5,
   "id": "feed8182-b530-4754-ac7d-4bf17541209c",
   "metadata": {},
   "outputs": [],
   "source": [
    "# import numpy as np\n",
    "\n",
    "# colors = {1:'red',2:'green',3:'blue',4:'black',5:'magenta',6:'yellow',7:'orange',8:'navy',9:'darkgreen',10:'violet'}\n",
    "\n",
    "# sdf = df.groupby(['Nat', 'CS']).apply(lambda x: x.sort_values('Nat'))\n",
    "\n",
    "# fig = plt.figure(figsize=(10,6), dpi=100)\n",
    "\n",
    "# for idx_1 in sdf.index.get_level_values(0).unique():\n",
    "#     for idx_2 in sdf.loc[idx_1].index.get_level_values(0).unique():\n",
    "#         xes = sdf.loc[(idx_1, idx_2), 'Nat'].to_list()\n",
    "#         ycs = sdf.loc[(idx_1, idx_2), 'Diff'].to_list()\n",
    "#         plt.plot(xes,ycs,'o', color=colors[idx_2]) #, label=idx_2)\n",
    "# for i in colors:\n",
    "#     plt.plot([0],[0],'o', color=colors[i], label=i)\n",
    "\n",
    "# plt.legend()\n",
    "\n",
    "# plt.xlim((sdf['Nat'].min()-10), (sdf['Nat'].max()+20))\n",
    "# plt.axhline(0, color='red')\n",
    "# plt.xticks(np.arange((sdf['Nat'].min()), (sdf['Nat'].max())+1, 15))\n",
    "\n",
    "# plt.show()"
   ]
  }
 ],
 "metadata": {
  "kernelspec": {
   "display_name": "Python 3 (ipykernel)",
   "language": "python",
   "name": "python3"
  },
  "language_info": {
   "codemirror_mode": {
    "name": "ipython",
    "version": 3
   },
   "file_extension": ".py",
   "mimetype": "text/x-python",
   "name": "python",
   "nbconvert_exporter": "python",
   "pygments_lexer": "ipython3",
   "version": "3.8.11"
  }
 },
 "nbformat": 4,
 "nbformat_minor": 5
}
