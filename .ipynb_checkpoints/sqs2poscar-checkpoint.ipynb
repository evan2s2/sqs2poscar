{
 "cells": [
  {
   "cell_type": "code",
   "execution_count": 1,
   "id": "14393866-014f-43f8-adf3-18f5ed367a17",
   "metadata": {},
   "outputs": [],
   "source": [
    "import numpy as np\n",
    "import collections\n",
    "import re\n",
    "from pymatgen.io.vasp import inputs\n",
    "import datetime"
   ]
  },
  {
   "cell_type": "markdown",
   "id": "8b0aba74-d422-4fde-b011-a21a97d441d0",
   "metadata": {},
   "source": [
    "Parse"
   ]
  },
  {
   "cell_type": "code",
   "execution_count": 2,
   "id": "8f93524c-61df-4ba1-84e8-53e6ba0a35ef",
   "metadata": {},
   "outputs": [],
   "source": [
    "with open('bsqs_20TaB2_2.out') as f:\n",
    "    data = f.readlines()\n",
    "    \n",
    "cell_vec_raw = data[:3]\n",
    "cell_vec= []\n",
    "for i in cell_vec_raw:\n",
    "    cell_vec.append([float(j) for j in i.split()])\n",
    "cell_vec = np.array(cell_vec)\n",
    "\n",
    "lat_vec_raw = data[3:6]\n",
    "lat_vec= []\n",
    "for i in lat_vec_raw:\n",
    "    lat_vec.append([float(j) for j in i.split()])\n",
    "lat_vec = np.array(lat_vec)\n",
    "\n",
    "atoms_raw = data[6:]\n",
    "atoms = {}\n",
    "c = 0\n",
    "for i in atoms_raw:\n",
    "    string = i.replace('\\n','')\n",
    "    atoms[f'{str(string.split()[3])}{c}'] = [float(string.split()[0]), float(string.split()[1]), float(string.split()[2])]\n",
    "    c += 1\n",
    "atoms_sorted = dict(collections.OrderedDict(sorted(atoms.items())))"
   ]
  },
  {
   "cell_type": "markdown",
   "id": "e8288467-abba-4679-8555-5a2e984bc6c5",
   "metadata": {},
   "source": [
    "Calc"
   ]
  },
  {
   "cell_type": "code",
   "execution_count": 3,
   "id": "410b6e29-0ab2-43e1-9478-c78b8476893e",
   "metadata": {},
   "outputs": [
    {
     "data": {
      "text/plain": [
       "[[3.18049, 5.50877, -3.54548],\n",
       " [-1.590245, 2.754385, 7.09096],\n",
       " [3.18049, -5.50877, 14.18192]]"
      ]
     },
     "execution_count": 3,
     "metadata": {},
     "output_type": "execute_result"
    }
   ],
   "source": [
    "decart_basis = []\n",
    "for i in [0,1,2]:\n",
    "    x = lat_vec[i][0]*cell_vec[i][0] + lat_vec[i][1]*cell_vec[1][0] + lat_vec[i][2]*cell_vec[2][0]\n",
    "    y = lat_vec[i][0]*cell_vec[i][1] + lat_vec[i][1]*cell_vec[1][1] + lat_vec[i][2]*cell_vec[2][1]\n",
    "    z = lat_vec[i][0]*cell_vec[i][2] + lat_vec[i][1]*cell_vec[1][2] + lat_vec[i][2]*cell_vec[2][2]\n",
    "    decart_basis.append([x,y,z])\n",
    "decart_basis"
   ]
  },
  {
   "cell_type": "code",
   "execution_count": 4,
   "id": "e7d92cb8-2ce1-40f6-b4c2-f996c2df2dab",
   "metadata": {},
   "outputs": [],
   "source": [
    "new_coords_atoms_srted = {}\n",
    "dArrLatVecInv = np.linalg.inv(decart_basis)\n",
    "for i in atoms_sorted:\n",
    "    x = atoms_sorted[i][0]\n",
    "    y = atoms_sorted[i][1]\n",
    "    z = atoms_sorted[i][2]\n",
    "    x_ = x * cell_vec[0][0] + y * cell_vec[1][0] + z * cell_vec[2][0]\n",
    "    y_ = x * cell_vec[0][1] + y * cell_vec[1][1] + z * cell_vec[2][1]\n",
    "    z_ = x * cell_vec[0][2] + y * cell_vec[1][2] + z * cell_vec[2][2]\n",
    "    x__ = x_ * dArrLatVecInv[0][0] + y_ * dArrLatVecInv[1][0] + z_ * dArrLatVecInv[2][0]\n",
    "    y__ = x_ * dArrLatVecInv[0][1] + y_ * dArrLatVecInv[1][1] + z_ * dArrLatVecInv[2][1]\n",
    "    z__ = x_ * dArrLatVecInv[0][2] + y_ * dArrLatVecInv[1][2] + z_ * dArrLatVecInv[2][2]\n",
    "    new_coords_atoms_srted[i] = [x__, y__, z__]"
   ]
  },
  {
   "cell_type": "code",
   "execution_count": 5,
   "id": "f0141820-304f-4a15-abb0-33d2b9d1bd90",
   "metadata": {},
   "outputs": [],
   "source": [
    "translations_vector_matrix = decart_basis #lat_vec*cell_vec\n",
    "\n",
    "atoms_final_coords = []\n",
    "symbols = []\n",
    "\n",
    "for i in new_coords_atoms_srted:\n",
    "    symbol = re.sub('\\d', '', i)\n",
    "    symbols.append(symbol)\n",
    "    c = ''\n",
    "    for j in new_coords_atoms_srted[i]:\n",
    "        c += str(j) + ' '\n",
    "    atoms_final_coords.append(c + symbol)\n",
    "atoms_final_coords_as_string = '\\n'.join(atoms_final_coords)"
   ]
  },
  {
   "cell_type": "code",
   "execution_count": 6,
   "id": "6f0a6469-6b15-4e40-8f42-9f53e2fe4bd6",
   "metadata": {},
   "outputs": [],
   "source": [
    "unique_symbols = collections.Counter(map(tuple, symbols))\n",
    "elems, counts = '', ''\n",
    "for i in unique_symbols:\n",
    "    elems += ''.join(i) + ' '\n",
    "    counts += str(unique_symbols[i]) + ' '"
   ]
  },
  {
   "cell_type": "code",
   "execution_count": 7,
   "id": "b747b27e-923d-4888-a817-2940e8151201",
   "metadata": {},
   "outputs": [],
   "source": [
    "v = ''\n",
    "for i in translations_vector_matrix:\n",
    "    for j in i:\n",
    "        v += str(j) + \" \"\n",
    "    v += '\\n'"
   ]
  },
  {
   "cell_type": "code",
   "execution_count": 8,
   "id": "384c4c66-c150-4db4-a64d-8683ece1bcba",
   "metadata": {
    "tags": []
   },
   "outputs": [],
   "source": [
    "POSCAR = f'None\\n1.0\\n{v}{elems}\\n{counts}\\nDirect\\n{atoms_final_coords_as_string}'"
   ]
  },
  {
   "cell_type": "markdown",
   "id": "8acbe21e-83ca-4dbb-9be6-21e6517c6a2b",
   "metadata": {},
   "source": [
    "Check"
   ]
  },
  {
   "cell_type": "code",
   "execution_count": 9,
   "id": "0b5ef023-14d6-4355-a9ae-3feb94ddfa20",
   "metadata": {},
   "outputs": [
    {
     "name": "stdout",
     "output_type": "stream",
     "text": [
      "TaB2: 20.0 %\n",
      "Natoms: 90\n",
      "defaultdict(<class 'float'>, {'B': 60.0, 'Ta': 6.0, 'Zr': 24.0})\n"
     ]
    }
   ],
   "source": [
    "read_poscar = inputs.Poscar.from_string(POSCAR)\n",
    "struct = read_poscar.structure\n",
    "comp_dict = struct.composition.fractional_composition.as_dict()\n",
    "cTa = comp_dict['Ta']/(comp_dict['Ta']+comp_dict['Zr']) * 100\n",
    "cZr = comp_dict['Zr']/(comp_dict['Ta']+comp_dict['Zr']) * 100\n",
    "\n",
    "current_date = datetime.datetime.now()\n",
    "filename = f\"{cTa}TaB2_{current_date.strftime('%y%m%d_%H%M%S')}.vasp\"\n",
    "\n",
    "comment = f\"# mcsqs generated structure of solid solution {cTa}%-TaB2 + {cZr}%-ZrB2 on date {current_date.strftime('%y%m%d_%H%M%S')}\"\n",
    "\n",
    "print(f'TaB2: {cTa} %')\n",
    "print(f'Natoms: {sum(read_poscar.natoms)}')\n",
    "print(struct.composition.as_dict())"
   ]
  },
  {
   "cell_type": "markdown",
   "id": "2ce1d370-30fc-42bf-ac38-8b9b1bde0f23",
   "metadata": {},
   "source": [
    "Save"
   ]
  },
  {
   "cell_type": "code",
   "execution_count": 10,
   "id": "44968b71-e9af-4ad9-993a-ef3e4b332cfd",
   "metadata": {
    "tags": []
   },
   "outputs": [],
   "source": [
    "POSCAR = f'{comment}\\n1.0\\n{v}{elems}\\n{counts}\\nDirect\\n{atoms_final_coords_as_string}'"
   ]
  },
  {
   "cell_type": "code",
   "execution_count": 11,
   "id": "7daf7664-7831-4f9e-9f1a-570f4ad2247a",
   "metadata": {
    "tags": []
   },
   "outputs": [
    {
     "name": "stdout",
     "output_type": "stream",
     "text": [
      "poscar saved as 20.0TaB2_210810_153953.vasp\n"
     ]
    }
   ],
   "source": [
    "with open(filename, 'w') as f:\n",
    "    f.write(POSCAR)\n",
    "print(f'poscar saved as {filename}')"
   ]
  }
 ],
 "metadata": {
  "kernelspec": {
   "display_name": "Python 3",
   "language": "python",
   "name": "python3"
  },
  "language_info": {
   "codemirror_mode": {
    "name": "ipython",
    "version": 3
   },
   "file_extension": ".py",
   "mimetype": "text/x-python",
   "name": "python",
   "nbconvert_exporter": "python",
   "pygments_lexer": "ipython3",
   "version": "3.8.8"
  }
 },
 "nbformat": 4,
 "nbformat_minor": 5
}
