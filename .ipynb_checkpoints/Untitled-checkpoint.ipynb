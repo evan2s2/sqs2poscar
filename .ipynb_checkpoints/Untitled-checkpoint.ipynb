{
 "cells": [
  {
   "cell_type": "code",
   "execution_count": 71,
   "id": "14393866-014f-43f8-adf3-18f5ed367a17",
   "metadata": {},
   "outputs": [],
   "source": [
    "import numpy as np\n",
    "import collections\n",
    "import re"
   ]
  },
  {
   "cell_type": "markdown",
   "id": "8b0aba74-d422-4fde-b011-a21a97d441d0",
   "metadata": {},
   "source": [
    "Parse"
   ]
  },
  {
   "cell_type": "code",
   "execution_count": 60,
   "id": "8f93524c-61df-4ba1-84e8-53e6ba0a35ef",
   "metadata": {},
   "outputs": [],
   "source": [
    "with open('bestsqs.out') as f:\n",
    "    data = f.readlines()\n",
    "    \n",
    "cell_vec_raw = data[:3]\n",
    "cell_vec= []\n",
    "for i in cell_vec_raw:\n",
    "    cell_vec.append([float(j) for j in i.split()])\n",
    "cell_vec = np.array(cell_vec)\n",
    "\n",
    "lat_vec_raw = data[3:6]\n",
    "lat_vec= []\n",
    "for i in lat_vec_raw:\n",
    "    lat_vec.append([float(j) for j in i.split()])\n",
    "lat_vec = np.array(lat_vec)\n",
    "\n",
    "atoms_raw = data[6:]\n",
    "atoms = {}\n",
    "c = 0\n",
    "for i in atoms_raw:\n",
    "    string = i.replace('\\n','')\n",
    "    atoms[f'{str(string.split()[3])}{c}'] = [float(string.split()[0]), float(string.split()[1]), float(string.split()[2])]\n",
    "    c += 1\n",
    "atoms_sorted = dict(collections.OrderedDict(sorted(atoms.items())))"
   ]
  },
  {
   "cell_type": "markdown",
   "id": "e8288467-abba-4679-8555-5a2e984bc6c5",
   "metadata": {},
   "source": [
    "Calc"
   ]
  },
  {
   "cell_type": "code",
   "execution_count": 83,
   "id": "f0141820-304f-4a15-abb0-33d2b9d1bd90",
   "metadata": {},
   "outputs": [],
   "source": [
    "translations_vector_matrix = lat_vec*cell_vec\n",
    "\n",
    "atoms_final_coords = []\n",
    "symbols = []\n",
    "\n",
    "for i in atoms_sorted:\n",
    "    symbol = re.sub('\\d', '', i)\n",
    "    symbols += symbol\n",
    "    coords_raw = atoms_sorted[i]\n",
    "    \n",
    "    mult = atoms_sorted[i]*cell_vec\n",
    "    c = ''\n",
    "    for j in mult:\n",
    "        c += str(np.linalg.norm(j)) + ' '\n",
    "    atoms_final_coords.append(c + symbol)"
   ]
  },
  {
   "cell_type": "code",
   "execution_count": 99,
   "id": "b747b27e-923d-4888-a817-2940e8151201",
   "metadata": {},
   "outputs": [
    {
     "data": {
      "text/plain": [
       "'6.36098 0.0 0.0 \\n-3.18049 -2.754385 -0.0 \\n0.0 0.0 -7.09096 \\n'"
      ]
     },
     "execution_count": 99,
     "metadata": {},
     "output_type": "execute_result"
    }
   ],
   "source": [
    "v = ''\n",
    "for i in translations_vector_matrix:\n",
    "    for j in i:\n",
    "        v += str(j) + \" \"\n",
    "    v += '\\n'\n",
    "v"
   ]
  },
  {
   "cell_type": "code",
   "execution_count": 96,
   "id": "bc1a1fd0-5107-437a-970d-1b2b8dbcc771",
   "metadata": {},
   "outputs": [],
   "source": [
    "comment = 'None'"
   ]
  },
  {
   "cell_type": "code",
   "execution_count": 100,
   "id": "e20807f5-ce64-4843-b0f9-8573bf3f1ce9",
   "metadata": {},
   "outputs": [
    {
     "name": "stdout",
     "output_type": "stream",
     "text": [
      "None\n",
      "1.0\n",
      "6.36098 0.0 0.0 \n",
      "-3.18049 -2.754385 -0.0 \n",
      "0.0 0.0 -7.09096 \n",
      "\n"
     ]
    }
   ],
   "source": [
    "POSCAR = f'{comment}\\n1.0\\n{v}'\n",
    "print(POSCAR)\n"
   ]
  }
 ],
 "metadata": {
  "kernelspec": {
   "display_name": "Python 3",
   "language": "python",
   "name": "python3"
  },
  "language_info": {
   "codemirror_mode": {
    "name": "ipython",
    "version": 3
   },
   "file_extension": ".py",
   "mimetype": "text/x-python",
   "name": "python",
   "nbconvert_exporter": "python",
   "pygments_lexer": "ipython3",
   "version": "3.8.8"
  }
 },
 "nbformat": 4,
 "nbformat_minor": 5
}
