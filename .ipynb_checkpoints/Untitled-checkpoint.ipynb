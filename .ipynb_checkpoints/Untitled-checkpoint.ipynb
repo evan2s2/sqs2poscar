{
 "cells": [
  {
   "cell_type": "code",
   "execution_count": 132,
   "id": "14393866-014f-43f8-adf3-18f5ed367a17",
   "metadata": {},
   "outputs": [],
   "source": [
    "import numpy as np\n",
    "import collections\n",
    "import re"
   ]
  },
  {
   "cell_type": "markdown",
   "id": "8b0aba74-d422-4fde-b011-a21a97d441d0",
   "metadata": {},
   "source": [
    "Parse"
   ]
  },
  {
   "cell_type": "code",
   "execution_count": 133,
   "id": "8f93524c-61df-4ba1-84e8-53e6ba0a35ef",
   "metadata": {},
   "outputs": [],
   "source": [
    "with open('bestsqs.out') as f:\n",
    "    data = f.readlines()\n",
    "    \n",
    "cell_vec_raw = data[:3]\n",
    "cell_vec= []\n",
    "for i in cell_vec_raw:\n",
    "    cell_vec.append([float(j) for j in i.split()])\n",
    "cell_vec = np.array(cell_vec)\n",
    "\n",
    "lat_vec_raw = data[3:6]\n",
    "lat_vec= []\n",
    "for i in lat_vec_raw:\n",
    "    lat_vec.append([float(j) for j in i.split()])\n",
    "lat_vec = np.array(lat_vec)\n",
    "\n",
    "atoms_raw = data[6:]\n",
    "atoms = {}\n",
    "c = 0\n",
    "for i in atoms_raw:\n",
    "    string = i.replace('\\n','')\n",
    "    atoms[f'{str(string.split()[3])}{c}'] = [float(string.split()[0]), float(string.split()[1]), float(string.split()[2])]\n",
    "    c += 1\n",
    "atoms_sorted = dict(collections.OrderedDict(sorted(atoms.items())))"
   ]
  },
  {
   "cell_type": "markdown",
   "id": "e8288467-abba-4679-8555-5a2e984bc6c5",
   "metadata": {},
   "source": [
    "Calc"
   ]
  },
  {
   "cell_type": "code",
   "execution_count": 134,
   "id": "410b6e29-0ab2-43e1-9478-c78b8476893e",
   "metadata": {},
   "outputs": [
    {
     "data": {
      "text/plain": [
       "[[4.770735, 2.754385, 3.54548],\n",
       " [-1.590245, 2.754385, -3.54548],\n",
       " [-4.770735, 8.263155000000001, 3.5454800000000004]]"
      ]
     },
     "execution_count": 134,
     "metadata": {},
     "output_type": "execute_result"
    }
   ],
   "source": [
    "decart_basis = []\n",
    "for i in [0,1,2]:\n",
    "    x = lat_vec[i][0]*cell_vec[i][0] + lat_vec[i][1]*cell_vec[1][0] + lat_vec[i][2]*cell_vec[2][0]\n",
    "    y = lat_vec[i][0]*cell_vec[i][1] + lat_vec[i][1]*cell_vec[1][1] + lat_vec[i][2]*cell_vec[2][1]\n",
    "    z = lat_vec[i][0]*cell_vec[i][2] + lat_vec[i][1]*cell_vec[1][2] + lat_vec[i][2]*cell_vec[2][2]\n",
    "    decart_basis.append([x,y,z])\n",
    "decart_basis"
   ]
  },
  {
   "cell_type": "code",
   "execution_count": 135,
   "id": "e7d92cb8-2ce1-40f6-b4c2-f996c2df2dab",
   "metadata": {},
   "outputs": [],
   "source": [
    "new_coords_atoms_srted = {}\n",
    "dArrLatVecInv = np.linalg.inv(decart_basis)\n",
    "for i in atoms_sorted:\n",
    "    x = atoms_sorted[i][0]\n",
    "    y = atoms_sorted[i][1]\n",
    "    z = atoms_sorted[i][2]\n",
    "    x_ = x * cell_vec[0][0] + y * cell_vec[1][0] + z * cell_vec[2][0]\n",
    "    y_ = x * cell_vec[0][1] + y * cell_vec[1][1] + z * cell_vec[2][1]\n",
    "    z_ = x * cell_vec[0][2] + y * cell_vec[1][2] + z * cell_vec[2][2]\n",
    "    x__ = x_ * dArrLatVecInv[0][0] + y_ * dArrLatVecInv[1][0] + z_ * dArrLatVecInv[2][0]\n",
    "    y__ = x_ * dArrLatVecInv[0][1] + y_ * dArrLatVecInv[1][1] + z_ * dArrLatVecInv[2][1]\n",
    "    z__ = x_ * dArrLatVecInv[0][2] + y_ * dArrLatVecInv[1][2] + z_ * dArrLatVecInv[2][2]\n",
    "    new_coords_atoms_srted[i] = [x__, y__, z__]"
   ]
  },
  {
   "cell_type": "code",
   "execution_count": 136,
   "id": "f0141820-304f-4a15-abb0-33d2b9d1bd90",
   "metadata": {},
   "outputs": [],
   "source": [
    "translations_vector_matrix = decart_basis #lat_vec*cell_vec\n",
    "\n",
    "atoms_final_coords = []\n",
    "symbols = []\n",
    "\n",
    "for i in new_coords_atoms_srted:\n",
    "    symbol = re.sub('\\d', '', i)\n",
    "    symbols.append(symbol)\n",
    "    c = ''\n",
    "    for j in new_coords_atoms_srted[i]:\n",
    "        c += str(j) + ' '\n",
    "    atoms_final_coords.append(c + symbol)\n",
    "atoms_final_coords_as_string = '\\n'.join(atoms_final_coords)"
   ]
  },
  {
   "cell_type": "code",
   "execution_count": 137,
   "id": "6f0a6469-6b15-4e40-8f42-9f53e2fe4bd6",
   "metadata": {},
   "outputs": [],
   "source": [
    "unique_symbols = collections.Counter(map(tuple, symbols))\n",
    "elems, counts = '', ''\n",
    "for i in unique_symbols:\n",
    "    elems += ''.join(i) + ' '\n",
    "    counts += str(unique_symbols[i]) + ' '"
   ]
  },
  {
   "cell_type": "code",
   "execution_count": 138,
   "id": "b747b27e-923d-4888-a817-2940e8151201",
   "metadata": {},
   "outputs": [],
   "source": [
    "v = ''\n",
    "for i in translations_vector_matrix:\n",
    "    for j in i:\n",
    "        v += str(j) + \" \"\n",
    "    v += '\\n'"
   ]
  },
  {
   "cell_type": "code",
   "execution_count": 139,
   "id": "bc1a1fd0-5107-437a-970d-1b2b8dbcc771",
   "metadata": {},
   "outputs": [],
   "source": [
    "comment = 'None'"
   ]
  },
  {
   "cell_type": "code",
   "execution_count": 140,
   "id": "e20807f5-ce64-4843-b0f9-8573bf3f1ce9",
   "metadata": {},
   "outputs": [
    {
     "name": "stdout",
     "output_type": "stream",
     "text": [
      "None\n",
      "1.0\n",
      "4.770735 2.754385 3.54548 \n",
      "-1.590245 2.754385 -3.54548 \n",
      "-4.770735 8.263155000000001 3.5454800000000004 \n",
      "B Ta Zr \n",
      "40 16 4 \n",
      "Direct\n",
      "2.3333334999999997 2.6249999999999996 -1.2083335 B\n",
      "2.3333334999999997 2.8749999999999996 -0.9583334999999997 B\n",
      "2.8333334999999997 3.1249999999999996 -1.2083335 B\n",
      "1.3333334999999997 1.1249999999999998 -0.7083335 B\n",
      "1.8333334999999995 1.3749999999999996 -0.9583334999999998 B\n",
      "1.3333334999999997 1.3749999999999998 -0.4583334999999999 B\n",
      "1.8333334999999997 1.6249999999999996 -0.7083334999999997 B\n",
      "1.3333334999999997 1.8749999999999998 -0.9583335 B\n",
      "1.8333334999999997 1.8749999999999996 -0.4583334999999998 B\n",
      "1.3333334999999997 2.125 -0.7083334999999998 B\n",
      "1.8333334999999997 2.3749999999999996 -0.9583334999999997 B\n",
      "1.3333335 2.375 -0.4583334999999999 B\n",
      "1.8333334999999997 2.6249999999999996 -0.7083334999999997 B\n",
      "2.8333334999999997 3.874999999999999 -1.4583334999999997 B\n",
      "2.3333334999999997 3.1249999999999996 -0.7083334999999997 B\n",
      "2.8333334999999997 3.375 -0.9583335 B\n",
      "2.3333334999999997 3.624999999999999 -1.2083334999999997 B\n",
      "1.3333334999999997 0.625 -0.2083334999999999 B\n",
      "0.8333334999999997 0.8749999999999998 -0.45833349999999984 B\n",
      "0.8333334999999998 1.1249999999999998 -0.2083334999999999 B\n",
      "2.1666664999999994 2.6249999999999996 -1.0416664999999996 B\n",
      "2.1666664999999994 2.8749999999999996 -0.7916664999999997 B\n",
      "2.6666664999999994 3.1249999999999996 -1.0416664999999998 B\n",
      "1.1666664999999998 1.1249999999999998 -0.5416664999999999 B\n",
      "1.6666664999999998 1.3749999999999998 -0.7916664999999998 B\n",
      "1.1666664999999998 1.3749999999999998 -0.2916665 B\n",
      "1.6666664999999998 1.6249999999999996 -0.5416664999999998 B\n",
      "2.1666664999999994 1.8749999999999996 -0.7916664999999996 B\n",
      "2.6666665 2.8749999999999996 -1.2916664999999998 B\n",
      "2.1666664999999994 2.1249999999999996 -0.5416664999999997 B\n",
      "1.6666664999999998 2.3749999999999996 -0.7916664999999998 B\n",
      "2.1666664999999994 3.374999999999999 -1.2916664999999994 B\n",
      "1.6666664999999998 2.6249999999999996 -0.5416664999999998 B\n",
      "1.1666665 0.8749999999999998 -0.7916664999999999 B\n",
      "0.6666664999999999 0.12499999999999994 -0.04166650000000001 B\n",
      "1.1666664999999998 0.37499999999999983 -0.29166649999999994 B\n",
      "0.6666664999999999 0.6249999999999999 -0.5416664999999999 B\n",
      "2.1666664999999994 1.6249999999999996 -1.0416664999999996 B\n",
      "0.6666664999999999 0.8749999999999998 -0.2916665 B\n",
      "1.6666664999999998 2.125 -1.0416664999999998 B\n",
      "2.5000004999999996 3.2500002499999994 -1.2500002499999998 Ta\n",
      "2.5000004999999996 3.5000002499999994 -1.0000002499999998 Ta\n",
      "3.5000005 4.000000249999999 -1.50000025 Ta\n",
      "2.0000005 3.2500002499999994 -0.7500002499999998 Ta\n",
      "1.5000004999999998 1.5000002499999996 -1.0000002499999998 Ta\n",
      "1.0000004999999998 0.7500002499999998 -0.2500002499999999 Ta\n",
      "1.5000004999999998 1.0000002499999998 -0.5000002499999999 Ta\n",
      "1.0000004999999998 1.2500002499999998 -0.7500002499999999 Ta\n",
      "1.5000004999999998 1.2500002499999998 -0.2500002499999999 Ta\n",
      "1.0000004999999998 1.5000002499999998 -0.5000002499999999 Ta\n",
      "2.0000004999999996 2.7500002499999994 -1.2500002499999998 Ta\n",
      "3.0000004999999996 3.7500002499999994 -1.2500002499999998 Ta\n",
      "2.0000004999999996 2.00000025 -1.0000002499999998 Ta\n",
      "2.0000005 2.25000025 -0.75000025 Ta\n",
      "2.0000005 2.50000025 -0.5000002499999998 Ta\n",
      "2.5000004999999996 2.75000025 -0.7500002499999998 Ta\n",
      "2.0000005 3.0000002499999994 -1.00000025 Zr\n",
      "1.5000004999999998 1.7500002499999998 -0.7500002499999999 Zr\n",
      "1.5000004999999998 2.00000025 -0.5000002499999999 Zr\n",
      "2.5000004999999996 2.50000025 -1.0000002499999998 Zr\n"
     ]
    }
   ],
   "source": [
    "POSCAR = f'{comment}\\n1.0\\n{v}{elems}\\n{counts}\\nDirect\\n{atoms_final_coords_as_string}'\n",
    "print(POSCAR)\n",
    "with open('1.vasp', 'w') as f:\n",
    "    f.write(POSCAR)"
   ]
  }
 ],
 "metadata": {
  "kernelspec": {
   "display_name": "Python 3",
   "language": "python",
   "name": "python3"
  },
  "language_info": {
   "codemirror_mode": {
    "name": "ipython",
    "version": 3
   },
   "file_extension": ".py",
   "mimetype": "text/x-python",
   "name": "python",
   "nbconvert_exporter": "python",
   "pygments_lexer": "ipython3",
   "version": "3.8.8"
  }
 },
 "nbformat": 4,
 "nbformat_minor": 5
}
